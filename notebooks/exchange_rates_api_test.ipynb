{
 "cells": [
  {
   "cell_type": "code",
   "execution_count": 1,
   "metadata": {},
   "outputs": [],
   "source": [
    "import os\n",
    "import pandas as pd\n",
    "import sqlite3\n",
    "import requests\n",
    "import matplotlib.pyplot as plt\n",
    "from dotenv import load_dotenv\n",
    "from pathlib import Path\n",
    "\n",
    "ROOT = Path.cwd().parent\n",
    "load_dotenv(ROOT / '.env')\n",
    "api_key = os.getenv('EXCHANGE_RATE_API_KEY')"
   ]
  },
  {
   "cell_type": "code",
   "execution_count": 13,
   "metadata": {},
   "outputs": [
    {
     "data": {
      "text/html": [
       "<div>\n",
       "<style scoped>\n",
       "    .dataframe tbody tr th:only-of-type {\n",
       "        vertical-align: middle;\n",
       "    }\n",
       "\n",
       "    .dataframe tbody tr th {\n",
       "        vertical-align: top;\n",
       "    }\n",
       "\n",
       "    .dataframe thead th {\n",
       "        text-align: right;\n",
       "    }\n",
       "</style>\n",
       "<table border=\"1\" class=\"dataframe\">\n",
       "  <thead>\n",
       "    <tr style=\"text-align: right;\">\n",
       "      <th></th>\n",
       "      <th>Currency_Code</th>\n",
       "      <th>Rate</th>\n",
       "      <th>date</th>\n",
       "    </tr>\n",
       "  </thead>\n",
       "  <tbody>\n",
       "    <tr>\n",
       "      <th>0</th>\n",
       "      <td>LBP</td>\n",
       "      <td>89500.0000</td>\n",
       "      <td>Sun, 16 Jun 2024</td>\n",
       "    </tr>\n",
       "    <tr>\n",
       "      <th>1</th>\n",
       "      <td>IRR</td>\n",
       "      <td>42108.3265</td>\n",
       "      <td>Sun, 16 Jun 2024</td>\n",
       "    </tr>\n",
       "    <tr>\n",
       "      <th>2</th>\n",
       "      <td>VND</td>\n",
       "      <td>25416.7614</td>\n",
       "      <td>Sun, 16 Jun 2024</td>\n",
       "    </tr>\n",
       "    <tr>\n",
       "      <th>3</th>\n",
       "      <td>SLL</td>\n",
       "      <td>22967.6967</td>\n",
       "      <td>Sun, 16 Jun 2024</td>\n",
       "    </tr>\n",
       "    <tr>\n",
       "      <th>4</th>\n",
       "      <td>LAK</td>\n",
       "      <td>21778.3070</td>\n",
       "      <td>Sun, 16 Jun 2024</td>\n",
       "    </tr>\n",
       "  </tbody>\n",
       "</table>\n",
       "</div>"
      ],
      "text/plain": [
       "  Currency_Code        Rate              date\n",
       "0           LBP  89500.0000  Sun, 16 Jun 2024\n",
       "1           IRR  42108.3265  Sun, 16 Jun 2024\n",
       "2           VND  25416.7614  Sun, 16 Jun 2024\n",
       "3           SLL  22967.6967  Sun, 16 Jun 2024\n",
       "4           LAK  21778.3070  Sun, 16 Jun 2024"
      ]
     },
     "execution_count": 13,
     "metadata": {},
     "output_type": "execute_result"
    }
   ],
   "source": [
    "base_currency = \"USD\"\n",
    "url_currency_rates = f\"https://v6.exchangerate-api.com/v6/{api_key}/latest/{base_currency}\"\n",
    "req_currency = requests.get(url_currency_rates)\n",
    "\n",
    "data = req_currency.json()\n",
    "\n",
    "# Extract conversion rates and create DataFrame\n",
    "conversion_rates = pd.DataFrame(data['conversion_rates'].items(), columns=['Currency_Code', 'Rate'])\n",
    "\n",
    "# Sort DataFrame by Rate in descending order\n",
    "highest_rates = conversion_rates.sort_values(by=\"Rate\", ascending=False).reset_index(drop=True)\n",
    "highest_rates[\"date\"] = data[\"time_last_update_utc\"].split(\" 00:\")[0]\n",
    "highest_rates.head()"
   ]
  },
  {
   "cell_type": "markdown",
   "metadata": {},
   "source": [
    "- **Improvement**: Add country names from this site (quick scraping) https://www.foreignexchangelive.com/currency-codes-symbols/"
   ]
  },
  {
   "cell_type": "code",
   "execution_count": 26,
   "metadata": {},
   "outputs": [],
   "source": [
    "url_currency_codes = f'https://v6.exchangerate-api.com/v6/{api_key}/codes'\n",
    "req_codes = requests.get(url_currency_codes)\n",
    "data_code = req_codes.json()\n",
    "codes = pd.DataFrame(data_code[\"supported_codes\"], columns=[\"Currency_Code\", \"Currency_Name\"])"
   ]
  },
  {
   "cell_type": "code",
   "execution_count": 2,
   "metadata": {},
   "outputs": [
    {
     "name": "stdout",
     "output_type": "stream",
     "text": [
      "[('currency_names',), ('currency_rates',), ('sqlite_sequence',)]\n"
     ]
    }
   ],
   "source": [
    "import sqlite3\n",
    "# Create a sqlite3 database\n",
    "conn = sqlite3.connect(Path(ROOT / 'data' / 'currency_rates.db'))\n",
    "c = conn.cursor()\n",
    "\n",
    "# Query the database, show tables\n",
    "c.execute('''\n",
    "SELECT name\n",
    "FROM sqlite_master\n",
    "WHERE type='table'\n",
    "''')\n",
    "\n",
    "print(c.fetchall())"
   ]
  },
  {
   "cell_type": "markdown",
   "metadata": {},
   "source": [
    "- Look at the currency rates tables"
   ]
  },
  {
   "cell_type": "code",
   "execution_count": 3,
   "metadata": {},
   "outputs": [
    {
     "data": {
      "text/html": [
       "<div>\n",
       "<style scoped>\n",
       "    .dataframe tbody tr th:only-of-type {\n",
       "        vertical-align: middle;\n",
       "    }\n",
       "\n",
       "    .dataframe tbody tr th {\n",
       "        vertical-align: top;\n",
       "    }\n",
       "\n",
       "    .dataframe thead th {\n",
       "        text-align: right;\n",
       "    }\n",
       "</style>\n",
       "<table border=\"1\" class=\"dataframe\">\n",
       "  <thead>\n",
       "    <tr style=\"text-align: right;\">\n",
       "      <th></th>\n",
       "      <th>id</th>\n",
       "      <th>currency_code</th>\n",
       "      <th>rate</th>\n",
       "      <th>date</th>\n",
       "    </tr>\n",
       "  </thead>\n",
       "  <tbody>\n",
       "    <tr>\n",
       "      <th>0</th>\n",
       "      <td>1</td>\n",
       "      <td>USD</td>\n",
       "      <td>1.0000</td>\n",
       "      <td>Mon, 03 Jun 2024</td>\n",
       "    </tr>\n",
       "    <tr>\n",
       "      <th>1</th>\n",
       "      <td>2</td>\n",
       "      <td>AED</td>\n",
       "      <td>3.6725</td>\n",
       "      <td>Mon, 03 Jun 2024</td>\n",
       "    </tr>\n",
       "    <tr>\n",
       "      <th>2</th>\n",
       "      <td>3</td>\n",
       "      <td>AFN</td>\n",
       "      <td>71.2981</td>\n",
       "      <td>Mon, 03 Jun 2024</td>\n",
       "    </tr>\n",
       "    <tr>\n",
       "      <th>3</th>\n",
       "      <td>4</td>\n",
       "      <td>ALL</td>\n",
       "      <td>92.9346</td>\n",
       "      <td>Mon, 03 Jun 2024</td>\n",
       "    </tr>\n",
       "    <tr>\n",
       "      <th>4</th>\n",
       "      <td>5</td>\n",
       "      <td>AMD</td>\n",
       "      <td>387.6778</td>\n",
       "      <td>Mon, 03 Jun 2024</td>\n",
       "    </tr>\n",
       "  </tbody>\n",
       "</table>\n",
       "</div>"
      ],
      "text/plain": [
       "   id currency_code      rate              date\n",
       "0   1           USD    1.0000  Mon, 03 Jun 2024\n",
       "1   2           AED    3.6725  Mon, 03 Jun 2024\n",
       "2   3           AFN   71.2981  Mon, 03 Jun 2024\n",
       "3   4           ALL   92.9346  Mon, 03 Jun 2024\n",
       "4   5           AMD  387.6778  Mon, 03 Jun 2024"
      ]
     },
     "execution_count": 3,
     "metadata": {},
     "output_type": "execute_result"
    }
   ],
   "source": [
    "currency_rate_df = pd.read_sql_query(\"SELECT * FROM currency_rates\", conn)\n",
    "currency_rate_df.head()"
   ]
  },
  {
   "cell_type": "markdown",
   "metadata": {},
   "source": [
    "- Look at the currency names"
   ]
  },
  {
   "cell_type": "code",
   "execution_count": 4,
   "metadata": {},
   "outputs": [
    {
     "data": {
      "text/html": [
       "<div>\n",
       "<style scoped>\n",
       "    .dataframe tbody tr th:only-of-type {\n",
       "        vertical-align: middle;\n",
       "    }\n",
       "\n",
       "    .dataframe tbody tr th {\n",
       "        vertical-align: top;\n",
       "    }\n",
       "\n",
       "    .dataframe thead th {\n",
       "        text-align: right;\n",
       "    }\n",
       "</style>\n",
       "<table border=\"1\" class=\"dataframe\">\n",
       "  <thead>\n",
       "    <tr style=\"text-align: right;\">\n",
       "      <th></th>\n",
       "      <th>currency_code</th>\n",
       "      <th>currency_name</th>\n",
       "    </tr>\n",
       "  </thead>\n",
       "  <tbody>\n",
       "    <tr>\n",
       "      <th>0</th>\n",
       "      <td>AED</td>\n",
       "      <td>UAE Dirham</td>\n",
       "    </tr>\n",
       "    <tr>\n",
       "      <th>1</th>\n",
       "      <td>AFN</td>\n",
       "      <td>Afghan Afghani</td>\n",
       "    </tr>\n",
       "    <tr>\n",
       "      <th>2</th>\n",
       "      <td>ALL</td>\n",
       "      <td>Albanian Lek</td>\n",
       "    </tr>\n",
       "    <tr>\n",
       "      <th>3</th>\n",
       "      <td>AMD</td>\n",
       "      <td>Armenian Dram</td>\n",
       "    </tr>\n",
       "    <tr>\n",
       "      <th>4</th>\n",
       "      <td>ANG</td>\n",
       "      <td>Netherlands Antillian Guilder</td>\n",
       "    </tr>\n",
       "  </tbody>\n",
       "</table>\n",
       "</div>"
      ],
      "text/plain": [
       "  currency_code                  currency_name\n",
       "0           AED                     UAE Dirham\n",
       "1           AFN                 Afghan Afghani\n",
       "2           ALL                   Albanian Lek\n",
       "3           AMD                  Armenian Dram\n",
       "4           ANG  Netherlands Antillian Guilder"
      ]
     },
     "execution_count": 4,
     "metadata": {},
     "output_type": "execute_result"
    }
   ],
   "source": [
    "currency_names_df = pd.read_sql_query(\"SELECT * FROM currency_names\", conn)\n",
    "currency_names_df.head()"
   ]
  },
  {
   "cell_type": "code",
   "execution_count": 24,
   "metadata": {},
   "outputs": [
    {
     "data": {
      "text/html": [
       "<div>\n",
       "<style scoped>\n",
       "    .dataframe tbody tr th:only-of-type {\n",
       "        vertical-align: middle;\n",
       "    }\n",
       "\n",
       "    .dataframe tbody tr th {\n",
       "        vertical-align: top;\n",
       "    }\n",
       "\n",
       "    .dataframe thead th {\n",
       "        text-align: right;\n",
       "    }\n",
       "</style>\n",
       "<table border=\"1\" class=\"dataframe\">\n",
       "  <thead>\n",
       "    <tr style=\"text-align: right;\">\n",
       "      <th></th>\n",
       "      <th>currency_code</th>\n",
       "      <th>currency_name</th>\n",
       "      <th>rate</th>\n",
       "      <th>date</th>\n",
       "    </tr>\n",
       "  </thead>\n",
       "  <tbody>\n",
       "    <tr>\n",
       "      <th>0</th>\n",
       "      <td>USD</td>\n",
       "      <td>United States Dollar</td>\n",
       "      <td>1.0000</td>\n",
       "      <td>Mon, 03 Jun 2024</td>\n",
       "    </tr>\n",
       "    <tr>\n",
       "      <th>1</th>\n",
       "      <td>AED</td>\n",
       "      <td>UAE Dirham</td>\n",
       "      <td>3.6725</td>\n",
       "      <td>Mon, 03 Jun 2024</td>\n",
       "    </tr>\n",
       "    <tr>\n",
       "      <th>2</th>\n",
       "      <td>AFN</td>\n",
       "      <td>Afghan Afghani</td>\n",
       "      <td>71.2981</td>\n",
       "      <td>Mon, 03 Jun 2024</td>\n",
       "    </tr>\n",
       "    <tr>\n",
       "      <th>3</th>\n",
       "      <td>ALL</td>\n",
       "      <td>Albanian Lek</td>\n",
       "      <td>92.9346</td>\n",
       "      <td>Mon, 03 Jun 2024</td>\n",
       "    </tr>\n",
       "    <tr>\n",
       "      <th>4</th>\n",
       "      <td>AMD</td>\n",
       "      <td>Armenian Dram</td>\n",
       "      <td>387.6778</td>\n",
       "      <td>Mon, 03 Jun 2024</td>\n",
       "    </tr>\n",
       "  </tbody>\n",
       "</table>\n",
       "</div>"
      ],
      "text/plain": [
       "  currency_code         currency_name      rate              date\n",
       "0           USD  United States Dollar    1.0000  Mon, 03 Jun 2024\n",
       "1           AED            UAE Dirham    3.6725  Mon, 03 Jun 2024\n",
       "2           AFN        Afghan Afghani   71.2981  Mon, 03 Jun 2024\n",
       "3           ALL          Albanian Lek   92.9346  Mon, 03 Jun 2024\n",
       "4           AMD         Armenian Dram  387.6778  Mon, 03 Jun 2024"
      ]
     },
     "execution_count": 24,
     "metadata": {},
     "output_type": "execute_result"
    }
   ],
   "source": [
    "query = '''\n",
    "SELECT currency_rates.Currency_Code, currency_names.Currency_Name, currency_rates.Rate, currency_rates.date\n",
    "FROM currency_rates\n",
    "JOIN currency_names\n",
    "ON currency_rates.Currency_Code = currency_names.Currency_Code\n",
    "'''\n",
    "\n",
    "currency_df = pd.read_sql_query(query, conn)\n",
    "currency_df.head()"
   ]
  },
  {
   "cell_type": "markdown",
   "metadata": {},
   "source": [
    "- Some visualizations"
   ]
  },
  {
   "cell_type": "code",
   "execution_count": 25,
   "metadata": {},
   "outputs": [
    {
     "name": "stderr",
     "output_type": "stream",
     "text": [
      "C:\\Users\\mabid\\AppData\\Local\\Temp\\ipykernel_13428\\4044817629.py:5: UserWarning: The argument 'infer_datetime_format' is deprecated and will be removed in a future version. A strict version of it is now the default, see https://pandas.pydata.org/pdeps/0004-consistent-to-datetime-parsing.html. You can safely remove this argument.\n",
      "  currency_df[\"date_standard_format\"] = pd.to_datetime(currency_df[\"date\"], infer_datetime_format=True)\n"
     ]
    },
    {
     "data": {
      "text/plain": [
       "<Axes: title={'center': 'Euro value in USD'}, xlabel='date_standard_format', ylabel='USD'>"
      ]
     },
     "execution_count": 25,
     "metadata": {},
     "output_type": "execute_result"
    },
    {
     "data": {
      "image/png": "[encoded data removed]",
      "text/plain": [
       "<Figure size 1000x600 with 1 Axes>"
      ]
     },
     "metadata": {},
     "output_type": "display_data"
    }
   ],
   "source": [
    "fig, ax = plt.subplots(figsize=(10, 6))\n",
    "\n",
    "currency_df[\"in_dollars\"] = 1 / currency_df[\"rate\"]\n",
    "# Convert date to DD/MM/YYYY format\n",
    "currency_df[\"date_standard_format\"] = pd.to_datetime(currency_df[\"date\"], infer_datetime_format=True)\n",
    "\n",
    "# Rotate the xticks for better readability\n",
    "currency_df[currency_df[\"currency_name\"].str.contains(\"Euro\")].plot(x=\"date_standard_format\", y=\"in_dollars\", title=\"Euro value in USD\", ylabel=\"USD\", xlabel=\"date_standard_format\", rot=45, marker = \"o\", legend=False, ax = ax)"
   ]
  },
  {
   "cell_type": "code",
   "execution_count": 19,
   "metadata": {},
   "outputs": [
    {
     "data": {
      "text/plain": [
       "DatetimeIndex(['2024-06-03', '2024-06-04', '2024-06-05', '2024-06-06',\n",
       "               '2024-06-07', '2024-06-08', '2024-06-09', '2024-06-10',\n",
       "               '2024-06-11', '2024-06-12', '2024-06-13', '2024-06-14',\n",
       "               '2024-06-15', '2024-06-16', '2024-06-17'],\n",
       "              dtype='datetime64[ns]', freq='D')"
      ]
     },
     "execution_count": 19,
     "metadata": {},
     "output_type": "execute_result"
    }
   ],
   "source": [
    "min_date, max_date = currency_df[\"date_standard_format\"].min(), currency_df[\"date_standard_format\"].max()\n",
    "# Set datetime range from min to max date in a dataframe\n",
    "date_range = pd.date_range(start=min_date, end=max_date, freq=\"D\")\n",
    "date_range"
   ]
  },
  {
   "cell_type": "markdown",
   "metadata": {},
   "source": [
    "- Handling missing values (WIP)"
   ]
  },
  {
   "cell_type": "code",
   "execution_count": 44,
   "metadata": {},
   "outputs": [
    {
     "name": "stdout",
     "output_type": "stream",
     "text": [
      "First date: 2024-06-03 00:00:00\n",
      "Last date: 2024-06-17 00:00:00\n"
     ]
    },
    {
     "name": "stderr",
     "output_type": "stream",
     "text": [
      "C:\\Users\\mabid\\AppData\\Local\\Temp\\ipykernel_13428\\578268501.py:4: UserWarning: The argument 'infer_datetime_format' is deprecated and will be removed in a future version. A strict version of it is now the default, see https://pandas.pydata.org/pdeps/0004-consistent-to-datetime-parsing.html. You can safely remove this argument.\n",
      "  currency_df[\"date_standard_format\"] = pd.to_datetime(currency_df[\"date\"], infer_datetime_format=True)\n",
      "C:\\Users\\mabid\\AppData\\Local\\Temp\\ipykernel_13428\\578268501.py:16: FutureWarning: Series.fillna with 'method' is deprecated and will raise in a future version. Use obj.ffill() or obj.bfill() instead.\n",
      "  complete_df_euro[\"in_dollars\"] = complete_df_euro[\"in_dollars\"].fillna(method=\"ffill\")\n"
     ]
    },
    {
     "data": {
      "text/plain": [
       "(0.0, 1.0)"
      ]
     },
     "execution_count": 44,
     "metadata": {},
     "output_type": "execute_result"
    },
    {
     "data": {
      "image/png": "[encoded data removed]",
      "text/plain": [
       "<Figure size 1000x600 with 1 Axes>"
      ]
     },
     "metadata": {},
     "output_type": "display_data"
    }
   ],
   "source": [
    "fig, ax = plt.subplots(figsize=(10, 6))\n",
    "\n",
    "currency_df_euro = currency_df[currency_df[\"currency_name\"].str.contains(\"Euro\")]\n",
    "currency_df[\"date_standard_format\"] = pd.to_datetime(currency_df[\"date\"], infer_datetime_format=True)\n",
    "\n",
    "first_date = currency_df_euro[\"date_standard_format\"].min()\n",
    "last_date = currency_df_euro[\"date_standard_format\"].max()\n",
    "print(\"First date:\", first_date)\n",
    "print(\"Last date:\", last_date)\n",
    "\n",
    "# Create a complete DataFrame with date range\n",
    "complete_dates = pd.date_range(start=first_date,\n",
    "                               end=last_date, freq=\"D\")\n",
    "complete_df_euro = pd.DataFrame({\"date_standard_format\": complete_dates})\n",
    "complete_df_euro = complete_df_euro.merge(currency_df_euro, on=\"date_standard_format\", how=\"left\")\n",
    "complete_df_euro[\"in_dollars\"] = complete_df_euro[\"in_dollars\"].fillna(method=\"ffill\")\n",
    "complete_df_euro[\"date_natural_format\"] = complete_df_euro[\"date_standard_format\"].dt.strftime(\"%d/%m/%Y\")\n",
    "natural_first_date = complete_df_euro[complete_df_euro[\"date_standard_format\"] == first_date][\"date_natural_format\"].values[0]\n",
    "natural_last_date = complete_df_euro[complete_df_euro[\"date_standard_format\"] == last_date][\"date_natural_format\"].values[0]\n",
    "\n",
    "complete_df_euro.plot(x=\"date_natural_format\", y=\"in_dollars\", title=\"Euro value in USD\", ylabel=\"USD\", xlabel=\"date_natural_format\", rot=45, marker = \"o\", legend=False, ax = ax)\n",
    "#ax.set_xticks(start=first_date, end=last_date, freq=\"D\")"
   ]
  },
  {
   "cell_type": "code",
   "execution_count": 40,
   "metadata": {},
   "outputs": [
    {
     "data": {
      "text/plain": [
       "'17/06/2024'"
      ]
     },
     "execution_count": 40,
     "metadata": {},
     "output_type": "execute_result"
    }
   ],
   "source": [
    "natural_last_date"
   ]
  },
  {
   "cell_type": "code",
   "execution_count": null,
   "metadata": {},
   "outputs": [],
   "source": []
  }
 ],
 "metadata": {
  "kernelspec": {
   "display_name": ".venv",
   "language": "python",
   "name": "python3"
  },
  "language_info": {
   "codemirror_mode": {
    "name": "ipython",
    "version": 3
   },
   "file_extension": ".py",
   "mimetype": "text/x-python",
   "name": "python",
   "nbconvert_exporter": "python",
   "pygments_lexer": "ipython3",
   "version": "3.9.7"
  }
 },
 "nbformat": 4,
 "nbformat_minor": 2
}
