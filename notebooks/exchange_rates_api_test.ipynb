{
 "cells": [
  {
   "cell_type": "code",
   "execution_count": 1,
   "metadata": {},
   "outputs": [],
   "source": [
    "import os\n",
    "import pandas as pd\n",
    "import sqlite3\n",
    "import requests\n",
    "import matplotlib.pyplot as plt\n",
    "from dotenv import load_dotenv\n",
    "from pathlib import Path\n",
    "\n",
    "ROOT = Path.cwd().parent\n",
    "load_dotenv(ROOT / '.env')\n",
    "api_key = os.getenv('EXCHANGE_RATE_API_KEY')"
   ]
  },
  {
   "cell_type": "markdown",
   "metadata": {},
   "source": [
    "## Api test (Skippable)"
   ]
  },
  {
   "cell_type": "code",
   "execution_count": 13,
   "metadata": {},
   "outputs": [
    {
     "data": {
      "text/html": [
       "<div>\n",
       "<style scoped>\n",
       "    .dataframe tbody tr th:only-of-type {\n",
       "        vertical-align: middle;\n",
       "    }\n",
       "\n",
       "    .dataframe tbody tr th {\n",
       "        vertical-align: top;\n",
       "    }\n",
       "\n",
       "    .dataframe thead th {\n",
       "        text-align: right;\n",
       "    }\n",
       "</style>\n",
       "<table border=\"1\" class=\"dataframe\">\n",
       "  <thead>\n",
       "    <tr style=\"text-align: right;\">\n",
       "      <th></th>\n",
       "      <th>Currency_Code</th>\n",
       "      <th>Rate</th>\n",
       "      <th>date</th>\n",
       "    </tr>\n",
       "  </thead>\n",
       "  <tbody>\n",
       "    <tr>\n",
       "      <th>0</th>\n",
       "      <td>LBP</td>\n",
       "      <td>89500.0000</td>\n",
       "      <td>Sun, 16 Jun 2024</td>\n",
       "    </tr>\n",
       "    <tr>\n",
       "      <th>1</th>\n",
       "      <td>IRR</td>\n",
       "      <td>42108.3265</td>\n",
       "      <td>Sun, 16 Jun 2024</td>\n",
       "    </tr>\n",
       "    <tr>\n",
       "      <th>2</th>\n",
       "      <td>VND</td>\n",
       "      <td>25416.7614</td>\n",
       "      <td>Sun, 16 Jun 2024</td>\n",
       "    </tr>\n",
       "    <tr>\n",
       "      <th>3</th>\n",
       "      <td>SLL</td>\n",
       "      <td>22967.6967</td>\n",
       "      <td>Sun, 16 Jun 2024</td>\n",
       "    </tr>\n",
       "    <tr>\n",
       "      <th>4</th>\n",
       "      <td>LAK</td>\n",
       "      <td>21778.3070</td>\n",
       "      <td>Sun, 16 Jun 2024</td>\n",
       "    </tr>\n",
       "  </tbody>\n",
       "</table>\n",
       "</div>"
      ],
      "text/plain": [
       "  Currency_Code        Rate              date\n",
       "0           LBP  89500.0000  Sun, 16 Jun 2024\n",
       "1           IRR  42108.3265  Sun, 16 Jun 2024\n",
       "2           VND  25416.7614  Sun, 16 Jun 2024\n",
       "3           SLL  22967.6967  Sun, 16 Jun 2024\n",
       "4           LAK  21778.3070  Sun, 16 Jun 2024"
      ]
     },
     "execution_count": 13,
     "metadata": {},
     "output_type": "execute_result"
    }
   ],
   "source": [
    "base_currency = \"USD\"\n",
    "url_currency_rates = f\"https://v6.exchangerate-api.com/v6/{api_key}/latest/{base_currency}\"\n",
    "req_currency = requests.get(url_currency_rates)\n",
    "\n",
    "data = req_currency.json()\n",
    "\n",
    "# Extract conversion rates and create DataFrame\n",
    "conversion_rates = pd.DataFrame(data['conversion_rates'].items(), columns=['Currency_Code', 'Rate'])\n",
    "\n",
    "# Sort DataFrame by Rate in descending order\n",
    "highest_rates = conversion_rates.sort_values(by=\"Rate\", ascending=False).reset_index(drop=True)\n",
    "highest_rates[\"date\"] = data[\"time_last_update_utc\"].split(\" 00:\")[0]\n",
    "highest_rates.head()"
   ]
  },
  {
   "cell_type": "markdown",
   "metadata": {},
   "source": [
    "- **Improvement**: Add country names from this site (quick scraping) https://www.foreignexchangelive.com/currency-codes-symbols/"
   ]
  },
  {
   "cell_type": "code",
   "execution_count": 26,
   "metadata": {},
   "outputs": [],
   "source": [
    "url_currency_codes = f'https://v6.exchangerate-api.com/v6/{api_key}/codes'\n",
    "req_codes = requests.get(url_currency_codes)\n",
    "data_code = req_codes.json()\n",
    "codes = pd.DataFrame(data_code[\"supported_codes\"], columns=[\"Currency_Code\", \"Currency_Name\"])"
   ]
  },
  {
   "cell_type": "markdown",
   "metadata": {},
   "source": [
    "## Manipulating the sqlite3 database"
   ]
  },
  {
   "cell_type": "code",
   "execution_count": 77,
   "metadata": {},
   "outputs": [
    {
     "name": "stdout",
     "output_type": "stream",
     "text": [
      "[('currency_names',), ('currency_rates',), ('sqlite_sequence',)]\n"
     ]
    }
   ],
   "source": [
    "import sqlite3\n",
    "# Create a sqlite3 database\n",
    "conn = sqlite3.connect(Path(ROOT / 'data' / 'currency_rates.db'))\n",
    "c = conn.cursor()\n",
    "\n",
    "# Query the database, show tables\n",
    "c.execute('''\n",
    "SELECT name\n",
    "FROM sqlite_master\n",
    "WHERE type='table'\n",
    "''')\n",
    "\n",
    "print(c.fetchall())"
   ]
  },
  {
   "cell_type": "markdown",
   "metadata": {},
   "source": [
    "- Look at the currency rates tables"
   ]
  },
  {
   "cell_type": "code",
   "execution_count": 78,
   "metadata": {},
   "outputs": [
    {
     "data": {
      "text/html": [
       "<div>\n",
       "<style scoped>\n",
       "    .dataframe tbody tr th:only-of-type {\n",
       "        vertical-align: middle;\n",
       "    }\n",
       "\n",
       "    .dataframe tbody tr th {\n",
       "        vertical-align: top;\n",
       "    }\n",
       "\n",
       "    .dataframe thead th {\n",
       "        text-align: right;\n",
       "    }\n",
       "</style>\n",
       "<table border=\"1\" class=\"dataframe\">\n",
       "  <thead>\n",
       "    <tr style=\"text-align: right;\">\n",
       "      <th></th>\n",
       "      <th>id</th>\n",
       "      <th>currency_code</th>\n",
       "      <th>rate</th>\n",
       "      <th>date</th>\n",
       "    </tr>\n",
       "  </thead>\n",
       "  <tbody>\n",
       "    <tr>\n",
       "      <th>0</th>\n",
       "      <td>1</td>\n",
       "      <td>USD</td>\n",
       "      <td>1.0000</td>\n",
       "      <td>Mon, 03 Jun 2024</td>\n",
       "    </tr>\n",
       "    <tr>\n",
       "      <th>1</th>\n",
       "      <td>2</td>\n",
       "      <td>AED</td>\n",
       "      <td>3.6725</td>\n",
       "      <td>Mon, 03 Jun 2024</td>\n",
       "    </tr>\n",
       "    <tr>\n",
       "      <th>2</th>\n",
       "      <td>3</td>\n",
       "      <td>AFN</td>\n",
       "      <td>71.2981</td>\n",
       "      <td>Mon, 03 Jun 2024</td>\n",
       "    </tr>\n",
       "    <tr>\n",
       "      <th>3</th>\n",
       "      <td>4</td>\n",
       "      <td>ALL</td>\n",
       "      <td>92.9346</td>\n",
       "      <td>Mon, 03 Jun 2024</td>\n",
       "    </tr>\n",
       "    <tr>\n",
       "      <th>4</th>\n",
       "      <td>5</td>\n",
       "      <td>AMD</td>\n",
       "      <td>387.6778</td>\n",
       "      <td>Mon, 03 Jun 2024</td>\n",
       "    </tr>\n",
       "  </tbody>\n",
       "</table>\n",
       "</div>"
      ],
      "text/plain": [
       "   id currency_code      rate              date\n",
       "0   1           USD    1.0000  Mon, 03 Jun 2024\n",
       "1   2           AED    3.6725  Mon, 03 Jun 2024\n",
       "2   3           AFN   71.2981  Mon, 03 Jun 2024\n",
       "3   4           ALL   92.9346  Mon, 03 Jun 2024\n",
       "4   5           AMD  387.6778  Mon, 03 Jun 2024"
      ]
     },
     "execution_count": 78,
     "metadata": {},
     "output_type": "execute_result"
    }
   ],
   "source": [
    "currency_rate_df = pd.read_sql_query(\"SELECT * FROM currency_rates\", conn)\n",
    "currency_rate_df.head()"
   ]
  },
  {
   "cell_type": "markdown",
   "metadata": {},
   "source": [
    "- Look at the currency names"
   ]
  },
  {
   "cell_type": "code",
   "execution_count": 79,
   "metadata": {},
   "outputs": [
    {
     "data": {
      "text/html": [
       "<div>\n",
       "<style scoped>\n",
       "    .dataframe tbody tr th:only-of-type {\n",
       "        vertical-align: middle;\n",
       "    }\n",
       "\n",
       "    .dataframe tbody tr th {\n",
       "        vertical-align: top;\n",
       "    }\n",
       "\n",
       "    .dataframe thead th {\n",
       "        text-align: right;\n",
       "    }\n",
       "</style>\n",
       "<table border=\"1\" class=\"dataframe\">\n",
       "  <thead>\n",
       "    <tr style=\"text-align: right;\">\n",
       "      <th></th>\n",
       "      <th>currency_code</th>\n",
       "      <th>currency_name</th>\n",
       "    </tr>\n",
       "  </thead>\n",
       "  <tbody>\n",
       "    <tr>\n",
       "      <th>0</th>\n",
       "      <td>AED</td>\n",
       "      <td>UAE Dirham</td>\n",
       "    </tr>\n",
       "    <tr>\n",
       "      <th>1</th>\n",
       "      <td>AFN</td>\n",
       "      <td>Afghan Afghani</td>\n",
       "    </tr>\n",
       "    <tr>\n",
       "      <th>2</th>\n",
       "      <td>ALL</td>\n",
       "      <td>Albanian Lek</td>\n",
       "    </tr>\n",
       "    <tr>\n",
       "      <th>3</th>\n",
       "      <td>AMD</td>\n",
       "      <td>Armenian Dram</td>\n",
       "    </tr>\n",
       "    <tr>\n",
       "      <th>4</th>\n",
       "      <td>ANG</td>\n",
       "      <td>Netherlands Antillian Guilder</td>\n",
       "    </tr>\n",
       "  </tbody>\n",
       "</table>\n",
       "</div>"
      ],
      "text/plain": [
       "  currency_code                  currency_name\n",
       "0           AED                     UAE Dirham\n",
       "1           AFN                 Afghan Afghani\n",
       "2           ALL                   Albanian Lek\n",
       "3           AMD                  Armenian Dram\n",
       "4           ANG  Netherlands Antillian Guilder"
      ]
     },
     "execution_count": 79,
     "metadata": {},
     "output_type": "execute_result"
    }
   ],
   "source": [
    "currency_names_df = pd.read_sql_query(\"SELECT * FROM currency_names\", conn)\n",
    "currency_names_df.head()"
   ]
  },
  {
   "cell_type": "code",
   "execution_count": 86,
   "metadata": {},
   "outputs": [
    {
     "data": {
      "text/html": [
       "<div>\n",
       "<style scoped>\n",
       "    .dataframe tbody tr th:only-of-type {\n",
       "        vertical-align: middle;\n",
       "    }\n",
       "\n",
       "    .dataframe tbody tr th {\n",
       "        vertical-align: top;\n",
       "    }\n",
       "\n",
       "    .dataframe thead th {\n",
       "        text-align: right;\n",
       "    }\n",
       "</style>\n",
       "<table border=\"1\" class=\"dataframe\">\n",
       "  <thead>\n",
       "    <tr style=\"text-align: right;\">\n",
       "      <th></th>\n",
       "      <th>currency_code</th>\n",
       "      <th>currency_name</th>\n",
       "      <th>rate</th>\n",
       "      <th>date</th>\n",
       "    </tr>\n",
       "  </thead>\n",
       "  <tbody>\n",
       "    <tr>\n",
       "      <th>0</th>\n",
       "      <td>USD</td>\n",
       "      <td>United States Dollar</td>\n",
       "      <td>1.0000</td>\n",
       "      <td>Mon, 03 Jun 2024</td>\n",
       "    </tr>\n",
       "    <tr>\n",
       "      <th>1</th>\n",
       "      <td>AED</td>\n",
       "      <td>UAE Dirham</td>\n",
       "      <td>3.6725</td>\n",
       "      <td>Mon, 03 Jun 2024</td>\n",
       "    </tr>\n",
       "    <tr>\n",
       "      <th>2</th>\n",
       "      <td>AFN</td>\n",
       "      <td>Afghan Afghani</td>\n",
       "      <td>71.2981</td>\n",
       "      <td>Mon, 03 Jun 2024</td>\n",
       "    </tr>\n",
       "    <tr>\n",
       "      <th>3</th>\n",
       "      <td>ALL</td>\n",
       "      <td>Albanian Lek</td>\n",
       "      <td>92.9346</td>\n",
       "      <td>Mon, 03 Jun 2024</td>\n",
       "    </tr>\n",
       "    <tr>\n",
       "      <th>4</th>\n",
       "      <td>AMD</td>\n",
       "      <td>Armenian Dram</td>\n",
       "      <td>387.6778</td>\n",
       "      <td>Mon, 03 Jun 2024</td>\n",
       "    </tr>\n",
       "  </tbody>\n",
       "</table>\n",
       "</div>"
      ],
      "text/plain": [
       "  currency_code         currency_name      rate              date\n",
       "0           USD  United States Dollar    1.0000  Mon, 03 Jun 2024\n",
       "1           AED            UAE Dirham    3.6725  Mon, 03 Jun 2024\n",
       "2           AFN        Afghan Afghani   71.2981  Mon, 03 Jun 2024\n",
       "3           ALL          Albanian Lek   92.9346  Mon, 03 Jun 2024\n",
       "4           AMD         Armenian Dram  387.6778  Mon, 03 Jun 2024"
      ]
     },
     "execution_count": 86,
     "metadata": {},
     "output_type": "execute_result"
    }
   ],
   "source": [
    "query = '''\n",
    "SELECT currency_rates.Currency_Code, currency_names.Currency_Name, currency_rates.Rate, currency_rates.date\n",
    "FROM currency_rates\n",
    "JOIN currency_names\n",
    "ON currency_rates.Currency_Code = currency_names.Currency_Code\n",
    "'''\n",
    "\n",
    "currency_df = pd.read_sql_query(query, conn)\n",
    "currency_df.head()"
   ]
  },
  {
   "cell_type": "markdown",
   "metadata": {},
   "source": [
    "- Some visualizations"
   ]
  },
  {
   "cell_type": "code",
   "execution_count": 2,
   "metadata": {},
   "outputs": [],
   "source": [
    "def process_currency_data(currency_df, currency_code=None, currency_name=None):\n",
    "    \"\"\"\n",
    "    Process the currency DataFrame to prepare it for plotting.\n",
    "    \n",
    "    Parameters:\n",
    "    - currency_df: DataFrame containing currency data.\n",
    "    - currency_code: Specific currency code to filter the data.\n",
    "    - currency_name: Specific currency name to filter the data.\n",
    "    \n",
    "    Returns:\n",
    "    - complete_df: Processed DataFrame with filled values and additional columns.\n",
    "    - currency_code: The currency code used for filtering.\n",
    "    - currency_name: The currency name used for filtering.\n",
    "    \"\"\"\n",
    "    if currency_code is None and currency_name is None:\n",
    "        raise ValueError(\"You must specify either currency_code or currency_name\")\n",
    "    if currency_code is not None and currency_name is not None:\n",
    "        raise ValueError(\"You must specify either currency_code or currency_name, not both\")\n",
    "\n",
    "    if currency_code is not None:\n",
    "        currency_df_filtered = currency_df.loc[currency_df[\"currency_code\"] == currency_code].copy()\n",
    "    if currency_name is not None:\n",
    "        currency_df_filtered = currency_df.loc[currency_df[\"currency_name\"].str.contains(currency_name)].copy()\n",
    "\n",
    "    currency_name = currency_df_filtered[\"currency_name\"].iloc[0]\n",
    "    currency_code = currency_df_filtered[\"currency_code\"].iloc[0]\n",
    "    currency_df_filtered[\"date_standard_format\"] = pd.to_datetime(currency_df_filtered[\"date\"])\n",
    "    currency_df_filtered[\"in_dollars\"] = 1 / currency_df_filtered[\"rate\"]\n",
    "\n",
    "    first_date = currency_df_filtered[\"date_standard_format\"].min()\n",
    "    last_date = currency_df_filtered[\"date_standard_format\"].max()\n",
    "\n",
    "    # Create a complete DataFrame with date range\n",
    "    complete_dates = pd.date_range(start=first_date, end=last_date, freq=\"D\")\n",
    "    complete_df = pd.DataFrame({\"date_standard_format\": complete_dates})\n",
    "    complete_df = complete_df.merge(currency_df_filtered, on=\"date_standard_format\", how=\"left\")\n",
    "    complete_df[\"in_dollars\"] = complete_df[\"in_dollars\"].ffill()\n",
    "    complete_df[\"date_natural_format\"] = complete_df[\"date_standard_format\"].dt.strftime(\"%d/%m/%Y\")\n",
    "    complete_df[\"date\"] = complete_df[\"date_standard_format\"].dt.strftime(\"%d %B %Y\")\n",
    "    complete_df[[\"currency_code\", \"currency_name\", \"rate\"]] = complete_df[[\"currency_code\", \"currency_name\", \"rate\"]].ffill()\n",
    "\n",
    "    return complete_df, currency_code, currency_name\n",
    "\n",
    "def plot_currency_evolution(complete_df, currency_code = None, currency_name = None):\n",
    "    \"\"\"\n",
    "    Plot the evolution of the value of a currency in USD over time.\n",
    "    \n",
    "    Parameters:\n",
    "    - complete_df: DataFrame containing processed currency data.\n",
    "    - currency_code: The currency code used for filtering.\n",
    "    - currency_name: The currency name used for filtering.\n",
    "    \"\"\"\n",
    "    fig, ax = plt.subplots(figsize=(10, 6))\n",
    "    \n",
    "    if currency_code is None and currency_name is None:\n",
    "        raise ValueError(\"You must specify either currency_code or currency_name\")\n",
    "    if currency_code is not None and currency_name is not None:\n",
    "        raise ValueError(\"You must specify either currency_code or currency_name, not both\")\n",
    "\n",
    "    if currency_code is not None:\n",
    "        complete_df_filtered = complete_df.loc[complete_df[\"currency_code\"] == currency_code].copy()\n",
    "    if currency_name is not None:\n",
    "        complete_df_filtered = complete_df.loc[complete_df[\"currency_name\"].str.contains(currency_name)].copy()\n",
    "\n",
    "    currency_code, currency_name = complete_df_filtered[\"currency_code\"].iloc[0], complete_df_filtered[\"currency_name\"].iloc[0]\n",
    "\n",
    "    complete_df_filtered.plot(x=\"date_natural_format\", y=\"in_dollars\", title=f\"{currency_code} ({currency_name}) value in USD\",\n",
    "                     ylabel=\"USD\", xlabel=\"date_natural_format\", rot=45, marker=\"o\", legend=False, ax=ax)\n",
    "    \n",
    "    # Set the xticks to be every day\n",
    "    ax.set_xticks(range(0, len(complete_df_filtered), 1))\n",
    "    # Set xtick labels to be the date in natural format\n",
    "    ax.set_xticklabels(complete_df_filtered[\"date_natural_format\"], rotation=60)\n",
    "    ax.grid(True)\n",
    "    ax.set_xlabel(\"\")\n",
    "    ax.set_ylabel(\"Value in USD ($)\")\n",
    "    ax.set_title(f\"Evolving value of {currency_code} ({currency_name}) value in USD\")\n",
    "    plt.show()"
   ]
  },
  {
   "cell_type": "code",
   "execution_count": 3,
   "metadata": {},
   "outputs": [
    {
     "ename": "NameError",
     "evalue": "name 'currency_df' is not defined",
     "output_type": "error",
     "traceback": [
      "\u001b[1;31m---------------------------------------------------------------------------\u001b[0m",
      "\u001b[1;31mNameError\u001b[0m                                 Traceback (most recent call last)",
      "Cell \u001b[1;32mIn[3], line 2\u001b[0m\n\u001b[0;32m      1\u001b[0m concatenated_df \u001b[38;5;241m=\u001b[39m pd\u001b[38;5;241m.\u001b[39mDataFrame()\n\u001b[1;32m----> 2\u001b[0m n_currency_codes \u001b[38;5;241m=\u001b[39m \u001b[38;5;28mlen\u001b[39m(\u001b[43mcurrency_df\u001b[49m[\u001b[38;5;124m\"\u001b[39m\u001b[38;5;124mcurrency_code\u001b[39m\u001b[38;5;124m\"\u001b[39m]\u001b[38;5;241m.\u001b[39munique())\n\u001b[0;32m      3\u001b[0m \u001b[38;5;28;01mfor\u001b[39;00m i, currency_code \u001b[38;5;129;01min\u001b[39;00m \u001b[38;5;28menumerate\u001b[39m(\u001b[38;5;28mlist\u001b[39m(currency_df[\u001b[38;5;124m\"\u001b[39m\u001b[38;5;124mcurrency_code\u001b[39m\u001b[38;5;124m\"\u001b[39m]\u001b[38;5;241m.\u001b[39munique())[:\u001b[38;5;241m100\u001b[39m]):\n\u001b[0;32m      4\u001b[0m     \u001b[38;5;28mprint\u001b[39m(\u001b[38;5;124mf\u001b[39m\u001b[38;5;124m\"\u001b[39m\u001b[38;5;132;01m{\u001b[39;00mi\u001b[38;5;241m+\u001b[39m\u001b[38;5;241m1\u001b[39m\u001b[38;5;132;01m}\u001b[39;00m\u001b[38;5;124m / \u001b[39m\u001b[38;5;132;01m{\u001b[39;00mn_currency_codes\u001b[38;5;132;01m}\u001b[39;00m\u001b[38;5;124m Processing currency \u001b[39m\u001b[38;5;132;01m{\u001b[39;00mcurrency_code\u001b[38;5;132;01m}\u001b[39;00m\u001b[38;5;124m\"\u001b[39m)\n",
      "\u001b[1;31mNameError\u001b[0m: name 'currency_df' is not defined"
     ]
    }
   ],
   "source": [
    "concatenated_df = pd.DataFrame()\n",
    "n_currency_codes = len(currency_df[\"currency_code\"].unique())\n",
    "for i, currency_code in enumerate(list(currency_df[\"currency_code\"].unique())[:100]):\n",
    "    print(f\"{i+1} / {n_currency_codes} Processing currency {currency_code}\")\n",
    "    df, _, _ = process_currency_data(currency_df, currency_code=currency_code)\n",
    "    concatenated_df = pd.concat([concatenated_df, df], axis=0)"
   ]
  },
  {
   "cell_type": "code",
   "execution_count": 4,
   "metadata": {},
   "outputs": [
    {
     "ename": "KeyError",
     "evalue": "'currency_code'",
     "output_type": "error",
     "traceback": [
      "\u001b[1;31m---------------------------------------------------------------------------\u001b[0m",
      "\u001b[1;31mKeyError\u001b[0m                                  Traceback (most recent call last)",
      "Cell \u001b[1;32mIn[4], line 1\u001b[0m\n\u001b[1;32m----> 1\u001b[0m \u001b[43mplot_currency_evolution\u001b[49m\u001b[43m(\u001b[49m\u001b[43mconcatenated_df\u001b[49m\u001b[43m,\u001b[49m\u001b[43m \u001b[49m\u001b[43mcurrency_code\u001b[49m\u001b[38;5;241;43m=\u001b[39;49m\u001b[38;5;124;43m\"\u001b[39;49m\u001b[38;5;124;43mMAD\u001b[39;49m\u001b[38;5;124;43m\"\u001b[39;49m\u001b[43m)\u001b[49m\n",
      "Cell \u001b[1;32mIn[2], line 61\u001b[0m, in \u001b[0;36mplot_currency_evolution\u001b[1;34m(complete_df, currency_code, currency_name)\u001b[0m\n\u001b[0;32m     58\u001b[0m     \u001b[38;5;28;01mraise\u001b[39;00m \u001b[38;5;167;01mValueError\u001b[39;00m(\u001b[38;5;124m\"\u001b[39m\u001b[38;5;124mYou must specify either currency_code or currency_name, not both\u001b[39m\u001b[38;5;124m\"\u001b[39m)\n\u001b[0;32m     60\u001b[0m \u001b[38;5;28;01mif\u001b[39;00m currency_code \u001b[38;5;129;01mis\u001b[39;00m \u001b[38;5;129;01mnot\u001b[39;00m \u001b[38;5;28;01mNone\u001b[39;00m:\n\u001b[1;32m---> 61\u001b[0m     complete_df_filtered \u001b[38;5;241m=\u001b[39m complete_df\u001b[38;5;241m.\u001b[39mloc[\u001b[43mcomplete_df\u001b[49m\u001b[43m[\u001b[49m\u001b[38;5;124;43m\"\u001b[39;49m\u001b[38;5;124;43mcurrency_code\u001b[39;49m\u001b[38;5;124;43m\"\u001b[39;49m\u001b[43m]\u001b[49m \u001b[38;5;241m==\u001b[39m currency_code]\u001b[38;5;241m.\u001b[39mcopy()\n\u001b[0;32m     62\u001b[0m \u001b[38;5;28;01mif\u001b[39;00m currency_name \u001b[38;5;129;01mis\u001b[39;00m \u001b[38;5;129;01mnot\u001b[39;00m \u001b[38;5;28;01mNone\u001b[39;00m:\n\u001b[0;32m     63\u001b[0m     complete_df_filtered \u001b[38;5;241m=\u001b[39m complete_df\u001b[38;5;241m.\u001b[39mloc[complete_df[\u001b[38;5;124m\"\u001b[39m\u001b[38;5;124mcurrency_name\u001b[39m\u001b[38;5;124m\"\u001b[39m]\u001b[38;5;241m.\u001b[39mstr\u001b[38;5;241m.\u001b[39mcontains(currency_name)]\u001b[38;5;241m.\u001b[39mcopy()\n",
      "File \u001b[1;32mc:\\Users\\mabid\\.virtualenvs\\Airflow_ETL-sslCfCS4\\lib\\site-packages\\pandas\\core\\frame.py:4102\u001b[0m, in \u001b[0;36mDataFrame.__getitem__\u001b[1;34m(self, key)\u001b[0m\n\u001b[0;32m   4100\u001b[0m \u001b[38;5;28;01mif\u001b[39;00m \u001b[38;5;28mself\u001b[39m\u001b[38;5;241m.\u001b[39mcolumns\u001b[38;5;241m.\u001b[39mnlevels \u001b[38;5;241m>\u001b[39m \u001b[38;5;241m1\u001b[39m:\n\u001b[0;32m   4101\u001b[0m     \u001b[38;5;28;01mreturn\u001b[39;00m \u001b[38;5;28mself\u001b[39m\u001b[38;5;241m.\u001b[39m_getitem_multilevel(key)\n\u001b[1;32m-> 4102\u001b[0m indexer \u001b[38;5;241m=\u001b[39m \u001b[38;5;28;43mself\u001b[39;49m\u001b[38;5;241;43m.\u001b[39;49m\u001b[43mcolumns\u001b[49m\u001b[38;5;241;43m.\u001b[39;49m\u001b[43mget_loc\u001b[49m\u001b[43m(\u001b[49m\u001b[43mkey\u001b[49m\u001b[43m)\u001b[49m\n\u001b[0;32m   4103\u001b[0m \u001b[38;5;28;01mif\u001b[39;00m is_integer(indexer):\n\u001b[0;32m   4104\u001b[0m     indexer \u001b[38;5;241m=\u001b[39m [indexer]\n",
      "File \u001b[1;32mc:\\Users\\mabid\\.virtualenvs\\Airflow_ETL-sslCfCS4\\lib\\site-packages\\pandas\\core\\indexes\\range.py:417\u001b[0m, in \u001b[0;36mRangeIndex.get_loc\u001b[1;34m(self, key)\u001b[0m\n\u001b[0;32m    415\u001b[0m         \u001b[38;5;28;01mraise\u001b[39;00m \u001b[38;5;167;01mKeyError\u001b[39;00m(key) \u001b[38;5;28;01mfrom\u001b[39;00m \u001b[38;5;21;01merr\u001b[39;00m\n\u001b[0;32m    416\u001b[0m \u001b[38;5;28;01mif\u001b[39;00m \u001b[38;5;28misinstance\u001b[39m(key, Hashable):\n\u001b[1;32m--> 417\u001b[0m     \u001b[38;5;28;01mraise\u001b[39;00m \u001b[38;5;167;01mKeyError\u001b[39;00m(key)\n\u001b[0;32m    418\u001b[0m \u001b[38;5;28mself\u001b[39m\u001b[38;5;241m.\u001b[39m_check_indexing_error(key)\n\u001b[0;32m    419\u001b[0m \u001b[38;5;28;01mraise\u001b[39;00m \u001b[38;5;167;01mKeyError\u001b[39;00m(key)\n",
      "\u001b[1;31mKeyError\u001b[0m: 'currency_code'"
     ]
    },
    {
     "data": {
      "image/png": "[encoded data removed]",
      "text/plain": [
       "<Figure size 1000x600 with 1 Axes>"
      ]
     },
     "metadata": {},
     "output_type": "display_data"
    }
   ],
   "source": [
    "plot_currency_evolution(concatenated_df, currency_code=\"MAD\")"
   ]
  },
  {
   "cell_type": "code",
   "execution_count": null,
   "metadata": {},
   "outputs": [],
   "source": []
  }
 ],
 "metadata": {
  "kernelspec": {
   "display_name": ".venv",
   "language": "python",
   "name": "python3"
  },
  "language_info": {
   "codemirror_mode": {
    "name": "ipython",
    "version": 3
   },
   "file_extension": ".py",
   "mimetype": "text/x-python",
   "name": "python",
   "nbconvert_exporter": "python",
   "pygments_lexer": "ipython3",
   "version": "3.9.7"
  }
 },
 "nbformat": 4,
 "nbformat_minor": 2
}
